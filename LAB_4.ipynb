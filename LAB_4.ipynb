{
  "nbformat": 4,
  "nbformat_minor": 0,
  "metadata": {
    "colab": {
      "provenance": [],
      "authorship_tag": "ABX9TyOG1okVkAmhEZjt/j4elnSe",
      "include_colab_link": true
    },
    "kernelspec": {
      "name": "python3",
      "display_name": "Python 3"
    },
    "language_info": {
      "name": "python"
    }
  },
  "cells": [
    {
      "cell_type": "markdown",
      "metadata": {
        "id": "view-in-github",
        "colab_type": "text"
      },
      "source": [
        "<a href=\"https://colab.research.google.com/github/Muditsinghbora/AIML/blob/main/LAB_4.ipynb\" target=\"_parent\"><img src=\"https://colab.research.google.com/assets/colab-badge.svg\" alt=\"Open In Colab\"/></a>"
      ]
    },
    {
      "cell_type": "code",
      "execution_count": 2,
      "metadata": {
        "id": "gCVEfLn7CAYJ"
      },
      "outputs": [],
      "source": [
        "import pandas as pd\n",
        "from sklearn.preprocessing import StandardScaler,OneHotEncoder\n"
      ]
    },
    {
      "cell_type": "code",
      "source": [
        "data={\n",
        "    'color':['red','green','blue', 'red'],\n",
        "    'size':['10','15','20','12'],\n",
        "    'shape':['20','30','40','25']\n",
        "}\n",
        "df=pd.DataFrame(data)\n",
        "\n",
        "print('original dataframe')\n",
        "print(df,'\\n')"
      ],
      "metadata": {
        "colab": {
          "base_uri": "https://localhost:8080/"
        },
        "id": "f3KmK-4MC4ul",
        "outputId": "f536bf49-4030-41e2-9fdd-452f4f796ba5"
      },
      "execution_count": 3,
      "outputs": [
        {
          "output_type": "stream",
          "name": "stdout",
          "text": [
            "original dataframe\n",
            "   color size shape\n",
            "0    red   10    20\n",
            "1  green   15    30\n",
            "2   blue   20    40\n",
            "3    red   12    25 \n",
            "\n"
          ]
        }
      ]
    },
    {
      "cell_type": "code",
      "source": [
        "#Display scaled data\n",
        "scaler=StandardScaler()\n",
        "df[['size','shape']]=scaler.fit_transform(df[['size','shape']])\n",
        "print('Dataframe after Feature Scaling (Standard Scaler):')\n",
        "print(df,'\\n')"
      ],
      "metadata": {
        "colab": {
          "base_uri": "https://localhost:8080/"
        },
        "id": "zJKNWXAeD9n1",
        "outputId": "0f0ba47d-ef95-4076-f3d1-3149ee9940f3"
      },
      "execution_count": 5,
      "outputs": [
        {
          "output_type": "stream",
          "name": "stdout",
          "text": [
            "Dataframe after Feature Scaling (Standard Scaler):\n",
            "   color      size     shape\n",
            "0    red -1.128330 -1.183216\n",
            "1  green  0.199117  0.169031\n",
            "2   blue  1.526564  1.521278\n",
            "3    red -0.597351 -0.507093 \n",
            "\n"
          ]
        }
      ]
    },
    {
      "cell_type": "code",
      "source": [
        "#one hot encoding\n",
        "encoder=OneHotEncoder()\n",
        "encoded_data=encoder.fit_transform(df[['color']]).toarray()\n",
        "encoded_df=pd.DataFrame(encoded_data, columns=encoder.get_feature_names_out(['color']))\n",
        "print(encoded_df)\n"
      ],
      "metadata": {
        "colab": {
          "base_uri": "https://localhost:8080/"
        },
        "id": "lLg1zG3GE4DG",
        "outputId": "51814aa7-2873-417a-f718-a1a30c74f8b2"
      },
      "execution_count": 16,
      "outputs": [
        {
          "output_type": "stream",
          "name": "stdout",
          "text": [
            "   color_blue  color_green  color_red\n",
            "0         0.0          0.0        1.0\n",
            "1         0.0          1.0        0.0\n",
            "2         1.0          0.0        0.0\n",
            "3         0.0          0.0        1.0\n"
          ]
        }
      ]
    },
    {
      "cell_type": "code",
      "source": [
        "final=pd.concat([df.drop('color',axis=1),encoded_df],axis=1)\n",
        "print(final)"
      ],
      "metadata": {
        "colab": {
          "base_uri": "https://localhost:8080/"
        },
        "id": "tX1ywThZKUTE",
        "outputId": "c865d46d-1a53-48c5-bfde-315b71dbffba"
      },
      "execution_count": 17,
      "outputs": [
        {
          "output_type": "stream",
          "name": "stdout",
          "text": [
            "       size     shape  color_blue  color_green  color_red\n",
            "0 -1.128330 -1.183216         0.0          0.0        1.0\n",
            "1  0.199117  0.169031         0.0          1.0        0.0\n",
            "2  1.526564  1.521278         1.0          0.0        0.0\n",
            "3 -0.597351 -0.507093         0.0          0.0        1.0\n"
          ]
        }
      ]
    }
  ]
}